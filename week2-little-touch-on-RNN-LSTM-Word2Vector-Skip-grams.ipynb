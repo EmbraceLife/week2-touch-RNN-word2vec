{
 "cells": [
  {
   "cell_type": "markdown",
   "metadata": {},
   "source": [
    "## Bag of words function"
   ]
  },
  {
   "cell_type": "code",
   "execution_count": 9,
   "metadata": {
    "collapsed": false
   },
   "outputs": [
    {
     "data": {
      "text/plain": [
       "{'I': 2, 'and': 2, 'dl': 1, 'love': 2, 'ml': 2}"
      ]
     },
     "execution_count": 9,
     "metadata": {},
     "output_type": "execute_result"
    }
   ],
   "source": [
    "import numpy as np\n",
    "import pandas as pd\n",
    "from collections import Counter\n",
    "\n",
    "def bag_of_words(text):\n",
    "    word_counter = Counter()\n",
    "    word_counter.update(text.split(\" \"))\n",
    "    return dict(word_counter)\n",
    "\n",
    "\n",
    "bag_of_words(\"I love ml and I love dl and ml\")"
   ]
  },
  {
   "cell_type": "code",
   "execution_count": 10,
   "metadata": {
    "collapsed": true
   },
   "outputs": [],
   "source": [
    "from IPython.display import HTML, Image"
   ]
  },
  {
   "cell_type": "markdown",
   "metadata": {},
   "source": [
    "## IMDB with LSTM in TFLearn by siraj"
   ]
  },
  {
   "cell_type": "code",
   "execution_count": 11,
   "metadata": {
    "collapsed": false
   },
   "outputs": [
    {
     "data": {
      "text/html": [
       "<iframe width=\"500\" height=\"300\" src=\"https://www.youtube.com/embed/si8zZHkufRY?ecver=1\" frameborder=\"0\" allowfullscreen></iframe>"
      ],
      "text/plain": [
       "<IPython.core.display.HTML object>"
      ]
     },
     "execution_count": 11,
     "metadata": {},
     "output_type": "execute_result"
    }
   ],
   "source": [
    "HTML('<iframe width=\"500\" height=\"300\" src=\"https://www.youtube.com/embed/si8zZHkufRY?ecver=1\" frameborder=\"0\" allowfullscreen></iframe>')"
   ]
  },
  {
   "cell_type": "code",
   "execution_count": 13,
   "metadata": {
    "collapsed": false
   },
   "outputs": [
    {
     "name": "stdout",
     "output_type": "stream",
     "text": [
      "Training Step: 7040  | total loss: \u001b[1m\u001b[32m0.08225\u001b[0m\u001b[0m\n",
      "| Adam | epoch: 010 | loss: 0.08225 - acc: 0.9808 | val_loss: 0.63722 - val_acc: 0.8320 -- iter: 22500/22500\n",
      "Training Step: 7040  | total loss: \u001b[1m\u001b[32m0.08225\u001b[0m\u001b[0m\n",
      "| Adam | epoch: 010 | loss: 0.08225 - acc: 0.9808 | val_loss: 0.63722 - val_acc: 0.8320 -- iter: 22500/22500\n",
      "--\n"
     ]
    }
   ],
   "source": [
    "from __future__ import division, print_function, absolute_import\n",
    "\n",
    "import tflearn\n",
    "from tflearn.data_utils import to_categorical, pad_sequences\n",
    "from tflearn.datasets import imdb\n",
    "\n",
    "# IMDB Dataset loading\n",
    "train, test, _ = imdb.load_data(path='imdb.pkl', n_words=10000,\n",
    "                                valid_portion=0.1)\n",
    "trainX, trainY = train\n",
    "testX, testY = test\n",
    "\n",
    "# Data preprocessing\n",
    "# Sequence padding: give each text an equal length of vector, for unmatched element space, fill with 0s\n",
    "trainX = pad_sequences(trainX, maxlen=100, value=0.)\n",
    "testX = pad_sequences(testX, maxlen=100, value=0.)\n",
    "\n",
    "# Converting labels to binary vectors\n",
    "trainY = to_categorical(trainY, nb_classes=2)\n",
    "testY = to_categorical(testY, nb_classes=2)\n",
    "\n",
    "# Network building\n",
    "net = tflearn.input_data([None, 100])\n",
    "\n",
    "# Not sure the meaning of embedding ????????????????\n",
    "net = tflearn.embedding(net, input_dim=10000, output_dim=128)\n",
    "\n",
    "# not sure meaning of lstm ??????????????????????\n",
    "net = tflearn.lstm(net, 128, dropout=0.8)\n",
    "net = tflearn.fully_connected(net, 2, activation='softmax')\n",
    "net = tflearn.regression(net, optimizer='adam', learning_rate=0.001,\n",
    "                         loss='categorical_crossentropy')\n",
    "\n",
    "# Training\n",
    "model = tflearn.DNN(net, tensorboard_verbose=0)\n",
    "\n",
    "# default n_epochs = 10\n",
    "model.fit(trainX, trainY, validation_set=(testX, testY), show_metric=True,\n",
    "          batch_size=32)\n"
   ]
  },
  {
   "cell_type": "markdown",
   "metadata": {},
   "source": [
    "## RNN and LSTM"
   ]
  },
  {
   "cell_type": "markdown",
   "metadata": {
    "heading_collapsed": true
   },
   "source": [
    "### RNN intro video "
   ]
  },
  {
   "cell_type": "markdown",
   "metadata": {
    "hidden": true
   },
   "source": [
    "----\n",
    "> **application:**\n",
    "- use previous letters to predict future letters\n",
    "\n",
    "----\n",
    "> **Why RNN**\n",
    "- feedforward: fixed length on inputs\n",
    "- RNN: not fixed the inputs length\n",
    "- RNN: focus on dependence\n",
    "    - images may be independent, but speech and sentences have short and long term dependencis on words in the past and in the future\n",
    "    \n",
    "----\n",
    "> **What RNN look like**\n",
    "- 5:09s: take previous moment input into current calcuation\n",
    "- unrolling by time: 6:41s\n",
    "\n",
    "----\n",
    "> **RNN predict next words from previous words: example**: 8:14s\n",
    "- use input h predict e\n",
    "- rolling in time and with input e, predict l\n",
    "- rolling forward, with input l, predict l\n",
    "- rolling forward, with input l, predict o\n",
    "- \"cash flow is \" can predict either \"low\" or \"high\", ambiguity (8:54s)\n",
    "\n",
    "----\n",
    "> **RNN predict sentiment anlaysis**: 9:12s\n",
    "- predict binary class sentiment\n",
    "- translate from English to French\n",
    "\n",
    "----\n",
    "> **vanishing and exploding gradient**\n",
    "- tanh vs max dealing with vanishing issue 14:00s\n",
    "- ...\n",
    "- LSTM and GRUs\n",
    "\n",
    "----\n",
    "> **exploding gradient**\n",
    "- Truncate BPTT\n",
    "- clip\n",
    "- ...\n",
    "\n",
    "----\n",
    "> **LSTM** 17:00s\n",
    "- flush memory, add to memory, get memory\n",
    "- structure of LSTM with examples at 22:37s"
   ]
  },
  {
   "cell_type": "code",
   "execution_count": 14,
   "metadata": {
    "collapsed": false,
    "hidden": true,
    "scrolled": true
   },
   "outputs": [
    {
     "data": {
      "text/html": [
       "<iframe width=\"500\" height=\"300\" src=\"https://www.youtube.com/embed/Ukgii7Yd_cU?ecver=1\" frameborder=\"0\" allowfullscreen></iframe>"
      ],
      "text/plain": [
       "<IPython.core.display.HTML object>"
      ]
     },
     "execution_count": 14,
     "metadata": {},
     "output_type": "execute_result"
    }
   ],
   "source": [
    "HTML('<iframe width=\"500\" height=\"300\" src=\"https://www.youtube.com/embed/Ukgii7Yd_cU?ecver=1\" frameborder=\"0\" allowfullscreen></iframe>')"
   ]
  },
  {
   "cell_type": "markdown",
   "metadata": {
    "heading_collapsed": true
   },
   "source": [
    "### Best intro on LSTM"
   ]
  },
  {
   "cell_type": "code",
   "execution_count": 15,
   "metadata": {
    "collapsed": false,
    "hidden": true,
    "scrolled": true
   },
   "outputs": [
    {
     "data": {
      "text/html": [
       "<?xml version=\"1.0\" encoding=\"UTF-8\" ?>\n",
       "<!DOCTYPE html PUBLIC \"-//W3C//DTD XHTML 1.0 Strict//EN\" \"http://www.w3.org/TR/xhtml1/DTD/xhtml1-strict.dtd\">\n",
       "<html xmlns=\"http://www.w3.org/1999/xhtml\" xml:lang=\"en\" lang=\"en\">\n",
       "\n",
       "    <head>\n",
       "        <meta http-equiv=\"Content-Type\" content=\"text/html; charset=UTF-8\" />\n",
       "        <title>Understanding LSTM Networks -- colah's blog</title>\n",
       "\n",
       "        <link rel=\"stylesheet\" href=\"../../fonts/Serif/cmun-serif.css\" />\n",
       "        <link rel=\"stylesheet\" href=\"../../fonts/Serif-Slanted/cmun-serif-slanted.css\" />\n",
       "\n",
       "        <!--BOOTSTRAP-->\n",
       "        <link href=\"../../bootstrap/css/bootstrap.min.css\" rel=\"stylesheet\">\n",
       "        <!--mobile first-->\n",
       "        <meta name=\"viewport\" content=\"width=device-width, initial-scale=1.0\">\n",
       "\n",
       "        <!--removed html from url but still is html-->\n",
       "        <meta http-equiv=\"Content-Type\" content=\"text/html; charset=UTF-8\" />\n",
       "\n",
       "        <!--font awesome-->\n",
       "        <link href=\"//netdna.bootstrapcdn.com/font-awesome/4.0.3/css/font-awesome.css\" rel=\"stylesheet\">\n",
       "\n",
       "        <!--fonts: allan & cardo-->\n",
       "        <link href=\"http://fonts.googleapis.com/css?family=Droid+Serif\" rel=\"stylesheet\" type=\"text/css\">\n",
       "        <link href=\"http://fonts.googleapis.com/css?family=Droid+Sans\" rel=\"stylesheet\" type=\"text/css\">\n",
       "\n",
       "        <link href=\"../../css/sticky-footer-navbar.css\" rel=\"stylesheet\">\n",
       "\n",
       "        <link href=\"../../css/default.css\" rel=\"stylesheet\">\n",
       "\n",
       "        <link href=\"../../comments/inlineDisqussions.css\" rel=\"stylesheet\">\n",
       "\n",
       "        <!--Highlight-->\n",
       "        <link href=\"../../highlight/styles/github.css\" rel=\"stylesheet\">\n",
       "\n",
       "        <link href=\"../../favicon.ico\" rel=\"shortcut icon\" />\n",
       "\n",
       "        <!--<script type=\"text/javascript\" src=\"http://cdn.mathjax.org/mathjax/latest/MathJax.js?config=TeX-AMS-MML_HTMLorMML\"></script>-->\n",
       "        <script type=\"text/javascript\" src=\"//cdn.mathjax.org/mathjax/latest/MathJax.js?config=TeX-AMS-MML_HTMLorMML\"></script>\n",
       "\n",
       "<script>\n",
       "  (function(i,s,o,g,r,a,m){i['GoogleAnalyticsObject']=r;i[r]=i[r]||function(){\n",
       "  (i[r].q=i[r].q||[]).push(arguments)},i[r].l=1*new Date();a=s.createElement(o),\n",
       "  m=s.getElementsByTagName(o)[0];a.async=1;a.src=g;m.parentNode.insertBefore(a,m)\n",
       "  })(window,document,'script','//www.google-analytics.com/analytics.js','ga');\n",
       "\n",
       "  ga('create', 'UA-49811703-1', 'colah.github.io');\n",
       "  ga('require', 'linkid', 'linkid.js');\n",
       "  ga('require', 'displayfeatures');\n",
       "  ga('send', 'pageview');\n",
       "\n",
       "</script>\n",
       "    </head>\n",
       "\n",
       "    <body>\n",
       "        <div id=\"wrap\">\n",
       "            <nav class=\"navbar navbar-inverse navbar-static-top\" role=\"navigation\">\n",
       "                <div class=\"container\">\n",
       "                    <!--Toggle header for mobile-->\n",
       "                    <div class=\"navbar-header\">\n",
       "                        <button type=\"button\" class=\"navbar-toggle\" data-toggle=\"collapse\" data-target=\".navbar-collapse\">\n",
       "                            <span class=\"sr-only\">Toggle navigation</span>\n",
       "                            <span class=\"icon-bar\"></span>\n",
       "                            <span class=\"icon-bar\"></span>\n",
       "                            <span class=\"icon-bar\"></span>\n",
       "                        </button>\n",
       "                        <a class=\"navbar-brand active\" href=\"../../\" style=\"font-size:20px;\">colah's blog</a>\n",
       "                    </div>\n",
       "                    <!--normal header-->\n",
       "                    <div class=\"navbar-collapse collapse\">\n",
       "                        <ul class=\"nav navbar-nav navbar-right\">\n",
       "                            <li><a href=\"../../\"><span class=\"glyphicon glyphicon-pencil\"></span>  Blog</a></li>\n",
       "                            <li><a href=\"../../about.html\"><span class=\"glyphicon glyphicon-user\"></span>  About</a></li>\n",
       "                            <li><a href=\"../../contact.html\"><span class=\"glyphicon glyphicon-envelope\"></span>  Contact</a></li>\n",
       "                        </ul>\n",
       "                    </div><!--/.nav-collapse -->\n",
       "                </div>\n",
       "            </nav>\n",
       "\n",
       "\n",
       "            <div id=\"content\">\n",
       "                <div class=\"container\">\n",
       "                    <div class=\"row\">\n",
       "                        <div class=\"col-md-8\">\n",
       "                            <h1>Understanding LSTM Networks</h1>\n",
       "                            <div class=\"info\">\n",
       "    <p style=\"font-family:CMSS; font-size:120%\">Posted on August 27, 2015</p>\n",
       "\n",
       "    <!--\n",
       "        by colah\n",
       "    -->\n",
       "</div>\n",
       "</br>\n",
       "\n",
       "<h2 id=\"recurrent-neural-networks\">Recurrent Neural Networks</h2>\n",
       "<p>Humans don’t start their thinking from scratch every second. As you read this essay, you understand each word based on your understanding of previous words. You don’t throw everything away and start thinking from scratch again. Your thoughts have persistence.</p>\n",
       "<p>Traditional neural networks can’t do this, and it seems like a major shortcoming. For example, imagine you want to classify what kind of event is happening at every point in a movie. It’s unclear how a traditional neural network could use its reasoning about previous events in the film to inform later ones.</p>\n",
       "<p>Recurrent neural networks address this issue. They are networks with loops in them, allowing information to persist.</p>\n",
       "<div style=\"width:11.8%; margin-left:auto; margin-right:auto; margin-bottom:5px; margin-top:17px;\">\n",
       "<img src=\"img/RNN-rolled.png\" alt>\n",
       "</div>\n",
       "<div class=\"caption\" style=\"margin-bottom:20px;\">\n",
       "<strong>Recurrent Neural Networks have loops.</strong>\n",
       "</div>\n",
       "<p>In the above diagram, a chunk of neural network, <span class=\"math\">\\(A\\)</span>, looks at some input <span class=\"math\">\\(x_t\\)</span> and outputs a value <span class=\"math\">\\(h_t\\)</span>. A loop allows information to be passed from one step of the network to the next.</p>\n",
       "<p>These loops make recurrent neural networks seem kind of mysterious. However, if you think a bit more, it turns out that they aren’t all that different than a normal neural network. A recurrent neural network can be thought of as multiple copies of the same network, each passing a message to a successor. Consider what happens if we unroll the loop:</p>\n",
       "<div style=\"width:70%; margin-left:auto; margin-right:auto; margin-bottom:5px; margin-top:17px;\">\n",
       "<img src=\"img/RNN-unrolled.png\" alt=\"An unrolled recurrent neural network.\">\n",
       "</div>\n",
       "<div class=\"caption\" style=\"margin-bottom:20px;\">\n",
       "<strong>An unrolled recurrent neural network.</strong>\n",
       "</div>\n",
       "<p>This chain-like nature reveals that recurrent neural networks are intimately related to sequences and lists. They’re the natural architecture of neural network to use for such data.</p>\n",
       "<p>And they certainly are used! In the last few years, there have been incredible success applying RNNs to a variety of problems: speech recognition, language modeling, translation, image captioning… The list goes on. I’ll leave discussion of the amazing feats one can achieve with RNNs to Andrej Karpathy’s excellent blog post, <a href=\"http://karpathy.github.io/2015/05/21/rnn-effectiveness/\">The Unreasonable Effectiveness of Recurrent Neural Networks</a>. But they really are pretty amazing.</p>\n",
       "<p>Essential to these successes is the use of “LSTMs,” a very special kind of recurrent neural network which works, for many tasks, much much better than the standard version. Almost all exciting results based on recurrent neural networks are achieved with them. It’s these LSTMs that this essay will explore.</p>\n",
       "<h2 id=\"the-problem-of-long-term-dependencies\">The Problem of Long-Term Dependencies</h2>\n",
       "<p>One of the appeals of RNNs is the idea that they might be able to connect previous information to the present task, such as using previous video frames might inform the understanding of the present frame. If RNNs could do this, they’d be extremely useful. But can they? It depends.</p>\n",
       "<p>Sometimes, we only need to look at recent information to perform the present task. For example, consider a language model trying to predict the next word based on the previous ones. If we are trying to predict the last word in “the clouds are in the <em>sky</em>,” we don’t need any further context – it’s pretty obvious the next word is going to be sky. In such cases, where the gap between the relevant information and the place that it’s needed is small, RNNs can learn to use the past information.</p>\n",
       "<div style=\"width:50%; margin-left:auto; margin-right:auto; margin-bottom:17px; margin-top:17px;\">\n",
       "<img src=\"img/RNN-shorttermdepdencies.png\" alt>\n",
       "</div>\n",
       "<p>But there are also cases where we need more context. Consider trying to predict the last word in the text “I grew up in France… I speak fluent <em>French</em>.” Recent information suggests that the next word is probably the name of a language, but if we want to narrow down which language, we need the context of France, from further back. It’s entirely possible for the gap between the relevant information and the point where it is needed to become very large.</p>\n",
       "<p>Unfortunately, as that gap grows, RNNs become unable to learn to connect the information.</p>\n",
       "<div style=\"width:65.2%; margin-left:auto; margin-right:auto; margin-bottom:17px; margin-top:17px;\">\n",
       "<img src=\"img/RNN-longtermdependencies.png\" alt=\"Neural networks struggle with long term dependencies.\">\n",
       "</div>\n",
       "<p>In theory, RNNs are absolutely capable of handling such “long-term dependencies.” A human could carefully pick parameters for them to solve toy problems of this form. Sadly, in practice, RNNs don’t seem to be able to learn them. The problem was explored in depth by <a href=\"http://people.idsia.ch/~juergen/SeppHochreiter1991ThesisAdvisorSchmidhuber.pdf\">Hochreiter (1991) [German]</a> and <a href=\"http://www-dsi.ing.unifi.it/~paolo/ps/tnn-94-gradient.pdf\">Bengio, et al. (1994)</a>, who found some pretty fundamental reasons why it might be difficult.</p>\n",
       "<p>Thankfully, LSTMs don’t have this problem!</p>\n",
       "<h2 id=\"lstm-networks\">LSTM Networks</h2>\n",
       "<p>Long Short Term Memory networks – usually just called “LSTMs” – are a special kind of RNN, capable of learning long-term dependencies. They were introduced by <a href=\"http://deeplearning.cs.cmu.edu/pdfs/Hochreiter97_lstm.pdf\">Hochreiter &amp; Schmidhuber (1997)</a>, and were refined and popularized by many people in following work.<a href=\"#fn1\" class=\"footnoteRef\" id=\"fnref1\"><sup>1</sup></a> They work tremendously well on a large variety of problems, and are now widely used.</p>\n",
       "<p>LSTMs are explicitly designed to avoid the long-term dependency problem. Remembering information for long periods of time is practically their default behavior, not something they struggle to learn!</p>\n",
       "<p>All recurrent neural networks have the form of a chain of repeating modules of neural network. In standard RNNs, this repeating module will have a very simple structure, such as a single tanh layer.</p>\n",
       "<div style=\"width:90%; margin-left:auto; margin-right:auto; margin-bottom:15px; margin-top:15px;\">\n",
       "<img src=\"img/LSTM3-SimpleRNN.png\" alt>\n",
       "<div class=\"caption\" style=\"margin-bottom:10px;\">\n",
       "<strong>The repeating module in a standard RNN contains a single layer.</strong>\n",
       "</div>\n",
       "</div>\n",
       "<p>LSTMs also have this chain like structure, but the repeating module has a different structure. Instead of having a single neural network layer, there are four, interacting in a very special way.</p>\n",
       "<div style=\"width:90%; margin-left:auto; margin-right:auto; margin-bottom:15px; margin-top:15px;\">\n",
       "<img src=\"img/LSTM3-chain.png\" alt=\"A LSTM neural network.\">\n",
       "<div class=\"caption\" style=\"margin-bottom:10px;\">\n",
       "<strong>The repeating module in an LSTM contains four interacting layers.</strong>\n",
       "</div>\n",
       "</div>\n",
       "<p>Don’t worry about the details of what’s going on. We’ll walk through the LSTM diagram step by step later. For now, let’s just try to get comfortable with the notation we’ll be using.</p>\n",
       "<div style=\"width:70%; margin-left:auto; margin-right:auto; margin-bottom:8px; margin-top:8px;\">\n",
       "<img src=\"img/LSTM2-notation.png\" alt>\n",
       "</div>\n",
       "<p>In the above diagram, each line carries an entire vector, from the output of one node to the inputs of others. The pink circles represent pointwise operations, like vector addition, while the yellow boxes are learned neural network layers. Lines merging denote concatenation, while a line forking denote its content being copied and the copies going to different locations. <!--\n",
       "\n",
       "To be a bit more explicit, we can split up each line into lines carrying individual scalar values:\n",
       "\n",
       "<div style=\"width:50%; margin-left:auto; margin-right:auto; margin-bottom:8px; margin-top:8px;\">\n",
       "<img src=\"img/LSTM-vector.png\" alt=\"\">\n",
       "</div>\n",
       "--></p>\n",
       "<h2 id=\"the-core-idea-behind-lstms\">The Core Idea Behind LSTMs</h2>\n",
       "<p>The key to LSTMs is the cell state, the horizontal line running through the top of the diagram.</p>\n",
       "<p>The cell state is kind of like a conveyor belt. It runs straight down the entire chain, with only some minor linear interactions. It’s very easy for information to just flow along it unchanged.</p>\n",
       "<div style=\"width:90%; margin-left:auto; margin-right:auto; margin-bottom:8px; margin-top:8px;\">\n",
       "<img src=\"img/LSTM3-C-line.png\" alt>\n",
       "</div>\n",
       "<p>The LSTM does have the ability to remove or add information to the cell state, carefully regulated by structures called gates.</p>\n",
       "<p>Gates are a way to optionally let information through. They are composed out of a sigmoid neural net layer and a pointwise multiplication operation.</p>\n",
       "<div style=\"width:12%; margin-left:auto; margin-right:auto; margin-bottom:8px; margin-top:8px;\">\n",
       "<img src=\"img/LSTM3-gate.png\" alt>\n",
       "</div>\n",
       "<p>The sigmoid layer outputs numbers between zero and one, describing how much of each component should be let through. A value of zero means “let nothing through,” while a value of one means “let everything through!”</p>\n",
       "<p>An LSTM has three of these gates, to protect and control the cell state.</p>\n",
       "<h2 id=\"step-by-step-lstm-walk-through\">Step-by-Step LSTM Walk Through</h2>\n",
       "<p>The first step in our LSTM is to decide what information we’re going to throw away from the cell state. This decision is made by a sigmoid layer called the “forget gate layer.” It looks at <span class=\"math\">\\(h_{t-1}\\)</span> and <span class=\"math\">\\(x_t\\)</span>, and outputs a number between <span class=\"math\">\\(0\\)</span> and <span class=\"math\">\\(1\\)</span> for each number in the cell state <span class=\"math\">\\(C_{t-1}\\)</span>. A <span class=\"math\">\\(1\\)</span> represents “completely keep this” while a <span class=\"math\">\\(0\\)</span> represents “completely get rid of this.”</p>\n",
       "<p>Let’s go back to our example of a language model trying to predict the next word based on all the previous ones. In such a problem, the cell state might include the gender of the present subject, so that the correct pronouns can be used. When we see a new subject, we want to forget the gender of the old subject.</p>\n",
       "<div style=\"width:90%; margin-left:auto; margin-right:auto; margin-bottom:8px; margin-top:8px;\">\n",
       "<img src=\"img/LSTM3-focus-f.png\" alt>\n",
       "</div>\n",
       "<p>The next step is to decide what new information we’re going to store in the cell state. This has two parts. First, a sigmoid layer called the “input gate layer” decides which values we’ll update. Next, a tanh layer creates a vector of new candidate values, <span class=\"math\">\\(\\tilde{C}_t\\)</span>, that could be added to the state. In the next step, we’ll combine these two to create an update to the state.</p>\n",
       "<p>In the example of our language model, we’d want to add the gender of the new subject to the cell state, to replace the old one we’re forgetting.</p>\n",
       "<div style=\"width:90%; margin-left:auto; margin-right:auto; margin-bottom:8px; margin-top:8px;\">\n",
       "<img src=\"img/LSTM3-focus-i.png\" alt>\n",
       "</div>\n",
       "<p>It’s now time to update the old cell state, <span class=\"math\">\\(C_{t-1}\\)</span>, into the new cell state <span class=\"math\">\\(C_t\\)</span>. The previous steps already decided what to do, we just need to actually do it.</p>\n",
       "<p>We multiply the old state by <span class=\"math\">\\(f_t\\)</span>, forgetting the things we decided to forget earlier. Then we add <span class=\"math\">\\(i_t*\\tilde{C}_t\\)</span>. This is the new candidate values, scaled by how much we decided to update each state value.</p>\n",
       "<p>In the case of the language model, this is where we’d actually drop the information about the old subject’s gender and add the new information, as we decided in the previous steps.</p>\n",
       "<div style=\"width:90%; margin-left:auto; margin-right:auto; margin-bottom:8px; margin-top:8px;\">\n",
       "<img src=\"img/LSTM3-focus-C.png\" alt>\n",
       "</div>\n",
       "<p>Finally, we need to decide what we’re going to output. This output will be based on our cell state, but will be a filtered version. First, we run a sigmoid layer which decides what parts of the cell state we’re going to output. Then, we put the cell state through <span class=\"math\">\\(\\tanh\\)</span> (to push the values to be between <span class=\"math\">\\(-1\\)</span> and <span class=\"math\">\\(1\\)</span>) and multiply it by the output of the sigmoid gate, so that we only output the parts we decided to.</p>\n",
       "<p>For the language model example, since it just saw a subject, it might want to output information relevant to a verb, in case that’s what is coming next. For example, it might output whether the subject is singular or plural, so that we know what form a verb should be conjugated into if that’s what follows next.</p>\n",
       "<div style=\"width:90%; margin-left:auto; margin-right:auto; margin-bottom:8px; margin-top:8px;\">\n",
       "<img src=\"img/LSTM3-focus-o.png\" alt>\n",
       "</div>\n",
       "<h2 id=\"variants-on-long-short-term-memory\">Variants on Long Short Term Memory</h2>\n",
       "<p>What I’ve described so far is a pretty normal LSTM. But not all LSTMs are the same as the above. In fact, it seems like almost every paper involving LSTMs uses a slightly different version. The differences are minor, but it’s worth mentioning some of them.</p>\n",
       "<p>One popular LSTM variant, introduced by <a href=\"ftp://ftp.idsia.ch/pub/juergen/TimeCount-IJCNN2000.pdf\">Gers &amp; Schmidhuber (2000)</a>, is adding “peephole connections.” This means that we let the gate layers look at the cell state.</p>\n",
       "<div style=\"width:90%; margin-left:auto; margin-right:auto; margin-bottom:8px; margin-top:8px;\">\n",
       "<img src=\"img/LSTM3-var-peepholes.png\" alt>\n",
       "</div>\n",
       "<p>The above diagram adds peepholes to all the gates, but many papers will give some peepholes and not others.</p>\n",
       "<p>Another variation is to use coupled forget and input gates. Instead of separately deciding what to forget and what we should add new information to, we make those decisions together. We only forget when we’re going to input something in its place. We only input new values to the state when we forget something older.</p>\n",
       "<div style=\"width:90%; margin-left:auto; margin-right:auto; margin-bottom:8px; margin-top:8px;\">\n",
       "<img src=\"img/LSTM3-var-tied.png\" alt>\n",
       "</div>\n",
       "<p>A slightly more dramatic variation on the LSTM is the Gated Recurrent Unit, or GRU, introduced by <a href=\"http://arxiv.org/pdf/1406.1078v3.pdf\">Cho, et al. (2014)</a>. It combines the forget and input gates into a single “update gate.” It also merges the cell state and hidden state, and makes some other changes. The resulting model is simpler than standard LSTM models, and has been growing increasingly popular.</p>\n",
       "<div style=\"width:90%; margin-left:auto; margin-right:auto; margin-bottom:8px; margin-top:8px;\">\n",
       "<img src=\"img/LSTM3-var-GRU.png\" alt=\"A gated recurrent unit neural network.\">\n",
       "</div>\n",
       "<p>These are only a few of the most notable LSTM variants. There are lots of others, like Depth Gated RNNs by <a href=\"http://arxiv.org/pdf/1508.03790v2.pdf\">Yao, et al. (2015)</a>. There’s also some completely different approach to tackling long-term dependencies, like Clockwork RNNs by <a href=\"http://arxiv.org/pdf/1402.3511v1.pdf\">Koutnik, et al. (2014)</a>.</p>\n",
       "<p>Which of these variants is best? Do the differences matter? <a href=\"http://arxiv.org/pdf/1503.04069.pdf\">Greff, et al. (2015)</a> do a nice comparison of popular variants, finding that they’re all about the same. <a href=\"http://jmlr.org/proceedings/papers/v37/jozefowicz15.pdf\">Jozefowicz, et al. (2015)</a> tested more than ten thousand RNN architectures, finding some that worked better than LSTMs on certain tasks.</p>\n",
       "<h2 id=\"conclusion\">Conclusion</h2>\n",
       "<p>Earlier, I mentioned the remarkable results people are achieving with RNNs. Essentially all of these are achieved using LSTMs. They really work a lot better for most tasks!</p>\n",
       "<p>Written down as a set of equations, LSTMs look pretty intimidating. Hopefully, walking through them step by step in this essay has made them a bit more approachable.</p>\n",
       "<p>LSTMs were a big step in what we can accomplish with RNNs. It’s natural to wonder: is there another big step? A common opinion among researchers is: “Yes! There is a next step and it’s attention!” The idea is to let every step of an RNN pick information to look at from some larger collection of information. For example, if you are using an RNN to create a caption describing an image, it might pick a part of the image to look at for every word it outputs. In fact, <a href=\"http://arxiv.org/pdf/1502.03044v2.pdf\">Xu, <em>et al.</em> (2015)</a> do exactly this – it might be a fun starting point if you want to explore attention! There’s been a number of really exciting results using attention, and it seems like a lot more are around the corner…</p>\n",
       "<p>Attention isn’t the only exciting thread in RNN research. For example, Grid LSTMs by <a href=\"http://arxiv.org/pdf/1507.01526v1.pdf\">Kalchbrenner, <em>et al.</em> (2015)</a> seem extremely promising. Work using RNNs in generative models – such as <a href=\"http://arxiv.org/pdf/1502.04623.pdf\">Gregor, <em>et al.</em> (2015)</a>, <a href=\"http://arxiv.org/pdf/1506.02216v3.pdf\">Chung, <em>et al.</em> (2015)</a>, or <a href=\"http://arxiv.org/pdf/1411.7610v3.pdf\">Bayer & Osendorfer (2015)</a>  – also seems very interesting. The last few years have been an exciting time for recurrent neural networks, and the coming ones promise to only be more so!</p>\n",
       "<h2 id=\"acknowledgments\">Acknowledgments</h2>\n",
       "<p>I’m grateful to a number of people for helping me better understand LSTMs, commenting on the visualizations, and providing feedback on this post.</p>\n",
       "<p>I’m very grateful to my colleagues at Google for their helpful feedback, especially <a href=\"http://research.google.com/pubs/OriolVinyals.html\">Oriol Vinyals</a>, <a href=\"http://research.google.com/pubs/GregCorrado.html\">Greg Corrado</a>, <a href=\"http://research.google.com/pubs/JonathonShlens.html\">Jon Shlens</a>, <a href=\"http://people.cs.umass.edu/~luke/\">Luke Vilnis</a>, and <a href=\"http://www.cs.toronto.edu/~ilya/\">Ilya Sutskever</a>. I’m also thankful to many other friends and colleagues for taking the time to help me, including <a href=\"https://www.linkedin.com/pub/dario-amodei/4/493/393\">Dario Amodei</a>, and <a href=\"http://cs.stanford.edu/~jsteinhardt/\">Jacob Steinhardt</a>. I’m especially thankful to <a href=\"http://www.kyunghyuncho.me/\">Kyunghyun Cho</a> for extremely thoughtful correspondence about my diagrams.</p>\n",
       "<p>Before this post, I practiced explaining LSTMs during two seminar series I taught on neural networks. Thanks to everyone who participated in those for their patience with me, and for their feedback.</p>\n",
       "\n",
       "<section class=\"footnotes\">\n",
       "<hr>\n",
       "<ol>\n",
       "<li id=\"fn1\"><p>In addition to the original authors, a lot of people contributed to the modern LSTM. A non-comprehensive list is: Felix Gers, Fred Cummins, Santiago Fernandez, Justin Bayer, Daan Wierstra, Julian Togelius, Faustian Gomez, Matteo Gagliolo, and <a href=\"https://scholar.google.com/citations?user=DaFHynwAAAAJ&amp;hl=en\">Alex Graves</a>.<a href=\"#fnref1\">↩</a></p></li>\n",
       "</ol>\n",
       "</section>\n",
       "\n",
       "<style>\n",
       ".post{width:160px;min-height:210px;margin-bottom:15px;margin-left:5px;margin-right:5px;float:left;border:2px solid black;background-color:white;border-radius:5px}\n",
       ".post h3{margin:5px;font-size:65%;text-align:center}\n",
       ".post h4{margin:0px;font-size:50%;text-align:center}\n",
       ".post img{margin:0px;padding:2px;margin-bottom:10px;width:100%;height:155px}\n",
       "</style>\n",
       "\n",
       "\n",
       "<section>\n",
       "<hr>\n",
       "<h4>More Posts</h4>\n",
       "\n",
       "<a href=\"http://distill.pub/2016/augmented-rnns/\">\n",
       "<div class=\"post\">\n",
       "<img style=\"width:90%; height: 90%; margin-left: 5%; margin-top: 12%; margin-bottom: 12%;\" src=\"../../images/post-covers/attention.png\">\n",
       "<h3 style=\"margin-top:0px;\">Attention and Augmented Recurrent Neural Networks</h3>\n",
       "<h4 style=\"margin-top:10px;\"><i>On Distill</i></h4>\n",
       "</div>\n",
       "</a>\n",
       "\n",
       "<a href=\"../../posts/2014-07-Conv-Nets-Modular/\">\n",
       "<div class=\"post\">\n",
       "<img src=\"../../posts/2014-07-Conv-Nets-Modular/img/fig.png\">\n",
       "<h3>Conv Nets</h3> <h4>A Modular Perspective</h4>\n",
       "</div>\n",
       "</a>\n",
       "\n",
       "<a href=\"../../posts/2014-03-NN-Manifolds-Topology/\">\n",
       "<div class=\"post\">\n",
       "<img src=\"../../images/post-covers/topology.png\">\n",
       "<h3>Neural Networks, Manifolds, and Topology</h3>\n",
       "</div>\n",
       "</a>\n",
       "\n",
       "<a href=\"../../posts/2014-07-NLP-RNNs-Representations/\">\n",
       "<div class=\"post\">\n",
       "<img src=\"../../posts/2014-07-NLP-RNNs-Representations/img/Mikolov-GenderVecs.png\">\n",
       "<h3>Deep Learning, NLP, and Representations</h3>\n",
       "</div>\n",
       "</a>\n",
       "\n",
       "<!--\n",
       "<a href=\"../../posts/2015-02-DataList-Illustrated/\">\n",
       "<div class=\"post\">\n",
       "<img src=\"../../images/post-covers/DataList.png\">\n",
       "<h3>Data.List Recursion Illustrated</h3>\n",
       "</div>\n",
       "</a>\n",
       "-->\n",
       "\n",
       "<!--\n",
       "\n",
       "\n",
       "<a href=\"../../posts/2015-08-Understanding-LSTMs/\">\n",
       "<div class=\"post\">\n",
       "<img src=\"../../images/post-covers/lstm.png\">\n",
       "<h3>Understanding LSTM Networks</h3>\n",
       "</div>\n",
       "</a>\n",
       "\n",
       "<a href=\"../../posts/2014-10-Visualizing-MNIST/\">\n",
       "<div class=\"post\">\n",
       "<img src=\"../../posts/2014-10-Visualizing-MNIST/img/fig.png\">\n",
       "<h3>Visualizing MNIST</h3>\n",
       "<h4>An Exploration of Dimensionality Reduction</h4>\n",
       "</div>\n",
       "</a>\n",
       "\n",
       "<a href=\"../../posts/2015-01-Visualizing-Representations/\">\n",
       "<div class=\"post\">\n",
       "<img src=\"../../posts/2015-01-Visualizing-Representations/img/fig.png\">\n",
       "<h3>Visualizing Representations</h3>\n",
       "<h4>Deep Learning and Human Beings</h4>\n",
       "</div>\n",
       "</a>\n",
       "\n",
       "\n",
       "<a href=\"../../posts/2014-07-Understanding-Convolutions/\">\n",
       "<div class=\"post\">\n",
       "<img src=\"../../posts/2014-07-Understanding-Convolutions/img/fig.png\">\n",
       "<h3>Understanding Convolutions</h3>\n",
       "</div>\n",
       "</a>\n",
       "\n",
       "\n",
       "<a href=\"../../posts/2014-12-Groups-Convolution/\">\n",
       "<div class=\"post\">\n",
       "<img src=\"../../posts/2014-12-Groups-Convolution/img/fig.png\">\n",
       "<h3>Groups &amp; Group Convolutions</h3>\n",
       "</div>\n",
       "</a>\n",
       "\n",
       "<a href=\"https://christopherolah.wordpress.com/2011/08/08/the-real-3d-mandelbrot-set/\">\n",
       "<div class=\"post\">\n",
       "<img src=\"../../images/post-covers/mandelbrot.png\">\n",
       "<h3>The Real 3D Mandelbrot Set</h3>\n",
       "<h4 style=\"margin-top:2px;\"><i>On my old blog</i></h4>\n",
       "</div>\n",
       "</a>\n",
       "\n",
       "<a href=\"../../posts/2014-07-FFN-Graphs-Vis/\">\n",
       "<div class=\"post\">\n",
       "<img src=\"../../posts/2014-07-FFN-Graphs-Vis/img/graph-HP-ships-labeled.png\">\n",
       "<h3>Fanfiction, Graphs, and PageRank</h3>\n",
       "</div>\n",
       "</a>\n",
       "\n",
       "-->\n",
       "\n",
       "<br style=\"clear:left;\">\n",
       "\n",
       "</section>\n",
       "\n",
       "<div id=\"disqus_thread\"></div>\n",
       "\n",
       "<script src=\"https://ajax.googleapis.com/ajax/libs/jquery/1.11.0/jquery.min.js\"></script>\n",
       "<script src=\"http://code.jquery.com/jquery-1.10.1.min.js\"></script>\n",
       "\n",
       "<script src=\"../../comments/inlineDisqussions.js\"></script>\n",
       "<script src=\"../../js/disqus.js\"></script>\n",
       "\n",
       "                        </div>\n",
       "                        <div class=\"col-md-4\"></div>\n",
       "                    </div>\n",
       "                </div>\n",
       "            </div>\n",
       "\n",
       "\n",
       "            <div id=\"footer\">\n",
       "                <div class=\"container\">\n",
       "                    Built by <a href=\"https://github.com/oinkina\">Oinkina</a> with\n",
       "                    <a href=\"http://jaspervdj.be/hakyll\">Hakyll</a>\n",
       "                    using <a href=\"http://getbootstrap.com/\">Bootstrap</a>,\n",
       "                    <a href=\"http://www.mathjax.org/\">MathJax</a>,\n",
       "                    <a href=\"http://disqus.com/\">Disqus</a>,\n",
       "                    <a href=\"https://github.com/unconed/MathBox.js\">MathBox.js</a>,\n",
       "                    <a href=\"http://highlightjs.org/\">Highlight.js</a>,\n",
       "                    and <a href=\"http://ignorethecode.net/blog/2010/04/20/footnotes/\">Footnotes.js</a>.\n",
       "                </div>\n",
       "            </div>\n",
       "        </div>\n",
       "\n",
       "    <!-- jQuery-->\n",
       "    <script src=\"https://ajax.googleapis.com/ajax/libs/jquery/1.11.0/jquery.min.js\"></script>\n",
       "    <script src=\"http://code.jquery.com/jquery-1.10.1.min.js\"></script>\n",
       "\n",
       "    <script src=\"../../bootstrap/js/bootstrap.min.js\"></script>\n",
       "\n",
       "    <script src=\"../../highlight/highlight.pack.js\"></script>\n",
       "    <script>hljs.initHighlightingOnLoad();</script>\n",
       "\n",
       "    <script src=\"../../js/footnotes.js\"></script>\n",
       "\n",
       "    <script src=\"../../comments/inlineDisqussions.js\"></script>\n",
       "\n",
       "    <noscript>Enable JavaScript for footnotes, Disqus comments, and other cool stuff.</noscript>\n",
       "\n",
       "    </body>\n",
       "\n",
       "</html>\n"
      ],
      "text/plain": [
       "<IPython.core.display.HTML object>"
      ]
     },
     "execution_count": 15,
     "metadata": {},
     "output_type": "execute_result"
    }
   ],
   "source": [
    "HTML('http://colah.github.io/posts/2015-08-Understanding-LSTMs/#annotations:JXld5OxoEeaPRzPmjBIj9Q')"
   ]
  },
  {
   "cell_type": "markdown",
   "metadata": {},
   "source": [
    "## Word2Vector"
   ]
  },
  {
   "cell_type": "markdown",
   "metadata": {},
   "source": [
    "### Word2Vector for Game of Throne"
   ]
  },
  {
   "cell_type": "markdown",
   "metadata": {},
   "source": [
    "----\n",
    "> 5 books in text and treated as one big corpus 7:00s\n",
    "\n",
    "----\n",
    "> libraries\n",
    "- explain what are those libraries for \n",
    "\n",
    "---\n",
    "> go check out gensim library"
   ]
  },
  {
   "cell_type": "code",
   "execution_count": 16,
   "metadata": {
    "collapsed": false,
    "scrolled": true
   },
   "outputs": [
    {
     "data": {
      "text/html": [
       "<iframe width=\"500\" height=\"300\" src=\"https://www.youtube.com/embed/pY9EwZ02sXU?list=PL2-dafEMk2A7YdKv4XfKpfbTH5z6rEEj3&amp;ecver=1\" frameborder=\"0\" allowfullscreen></iframe>"
      ],
      "text/plain": [
       "<IPython.core.display.HTML object>"
      ]
     },
     "execution_count": 16,
     "metadata": {},
     "output_type": "execute_result"
    }
   ],
   "source": [
    "HTML('<iframe width=\"500\" height=\"300\" src=\"https://www.youtube.com/embed/pY9EwZ02sXU?list=PL2-dafEMk2A7YdKv4XfKpfbTH5z6rEEj3&amp;ecver=1\" frameborder=\"0\" allowfullscreen></iframe>')"
   ]
  },
  {
   "cell_type": "markdown",
   "metadata": {},
   "source": [
    "-----\n",
    "> Also why was the hidden layer not passed through any sigmoid or any other activation function. Is there a reason behind this?\n",
    "\n",
    "neither of those decisions are hard/fast rules. You could make alternate decisions and still train the network successfully. I chose them based on some internal heuristics on the network.\n",
    "\n",
    "1) I discuss this some in the last video, but the big reason is that I believe that most of the network’s power is going to come from a linear correlation (direct correlation), which means adding a non-linearity can make learning take longer and increases the likelihood of overfitting. It’s still doable and with the right regularization I’m sure it’d work fine, but it’s a needless over-complication. Furthermore, as a learning exercise, this also prepares you for another, identically shaped, network called word2vec which has some very nice principles. Networks like this are actually just doing a linear compression of the correlation matrix between the input and output.\n",
    "\n",
    "in mini-project solution 3, why were the weights from inputs layer to hidden layer initialized to 0\n",
    "\n",
    "2) Highly related to the first question. The output layer is a single vector, which means that the decision boundary is a single plane, more or less. 99% of the learning in this network is bout moving words to one side or the other of that plane. So, you can randomly put words all over the vector space so that many of them have a long way to travel to get to one side or the other of the plane (meanwhile the plane is moving to try to fit as many as possible… further complicating the issue), or you can just put all the words in the same spot (0,0,0,0,0..etc), and then after the first time you “bump” each words in either the positive/negative direction you’ve already split them quite well allowing for an effective (albeit tight) decision boundary. So, long story short, in this case, I felt that learning would happen a lot faster. However, it’s not a hard and fast rule."
   ]
  }
 ],
 "metadata": {
  "kernelspec": {
   "display_name": "Python 2",
   "language": "python",
   "name": "python2"
  },
  "language_info": {
   "codemirror_mode": {
    "name": "ipython",
    "version": 2
   },
   "file_extension": ".py",
   "mimetype": "text/x-python",
   "name": "python",
   "nbconvert_exporter": "python",
   "pygments_lexer": "ipython2",
   "version": "2.7.12"
  }
 },
 "nbformat": 4,
 "nbformat_minor": 2
}
